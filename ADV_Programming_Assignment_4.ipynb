{
  "nbformat": 4,
  "nbformat_minor": 0,
  "metadata": {
    "colab": {
      "name": "ADV_Programming_Assignment_4",
      "provenance": []
    },
    "kernelspec": {
      "name": "python3",
      "display_name": "Python 3"
    },
    "language_info": {
      "name": "python"
    }
  },
  "cells": [
    {
      "cell_type": "code",
      "execution_count": 5,
      "metadata": {
        "colab": {
          "base_uri": "https://localhost:8080/"
        },
        "id": "BHOOSg3ppqC7",
        "outputId": "df3462d9-02de-4ced-95f1-01b3aecc581e"
      },
      "outputs": [
        {
          "output_type": "stream",
          "name": "stdout",
          "text": [
            "5\n",
            "55\n",
            "6765\n",
            "12586269025\n"
          ]
        }
      ],
      "source": [
        "'''1. The function fastFib(num) returns the fibonacci number Fn, of the given num\n",
        "as an argument.'''\n",
        "\n",
        "def fib_fast(num):\n",
        "  li = [0,1]\n",
        "  for i in range(2,num+1):\n",
        "    li.insert(i,li[i-1]+li[i-2])\n",
        "  return li[num]\n",
        "\n",
        "print(fib_fast(5))\n",
        "print(fib_fast(10))\n",
        "print(fib_fast(20))\n",
        "print(fib_fast(50))"
      ]
    },
    {
      "cell_type": "code",
      "source": [
        "'''2. Create a function that takes a strings characters as ASCII and returns each\n",
        "characters hexadecimal value as a string.'''\n",
        "\n",
        "def convert_to_hex(st):\n",
        "  res =\"\"\n",
        "  for i in st:\n",
        "    res += format(ord(i), \"x\")\n",
        "    res += \" \"\n",
        "  return res\n",
        "print(convert_to_hex(\"hello world\"))\n",
        "print(convert_to_hex(\"Big Boi\"))\n",
        "print(convert_to_hex(\"Marty Poppinson&quot\"))"
      ],
      "metadata": {
        "colab": {
          "base_uri": "https://localhost:8080/"
        },
        "id": "eGiVOtTjqNg_",
        "outputId": "57472142-e9bc-4008-ab40-c2417a27d008"
      },
      "execution_count": 8,
      "outputs": [
        {
          "output_type": "stream",
          "name": "stdout",
          "text": [
            "68 65 6c 6c 6f 20 77 6f 72 6c 64 \n",
            "42 69 67 20 42 6f 69 \n",
            "4d 61 72 74 79 20 50 6f 70 70 69 6e 73 6f 6e 26 71 75 6f 74 \n"
          ]
        }
      ]
    },
    {
      "cell_type": "code",
      "source": [
        "'''3. Someone has attempted to censor my strings by replacing every vowel\n",
        "with a *, l*k* th*s. Luckily, I&#39;ve been able to find the vowels that were\n",
        "removed.\n",
        "Given a censored string and a string of the censored vowels, return the\n",
        "original uncensored string.'''\n",
        "\n",
        "def uncensor(st,pt):\n",
        "  st = list(st)\n",
        "  ind_pt = 0\n",
        "  for i in range(len(st)):\n",
        "    if st[i] == '*':\n",
        "      st[i] = pt[ind_pt]\n",
        "      ind_pt+=1\n",
        "  return ''.join([str(k) for k in st])\n",
        "\n",
        "print(uncensor(\"Wh*r* d*d my v*w*ls g*\", \"eeioeo\"))\n",
        "print(uncensor(\"abcd\", \",\"))\n",
        "print(uncensor(\"*PP*RC*S*\",\"UEAE\"))"
      ],
      "metadata": {
        "colab": {
          "base_uri": "https://localhost:8080/"
        },
        "id": "GZ4Z6O16rVNp",
        "outputId": "23234f34-9738-42aa-92d2-f82c0944cce9"
      },
      "execution_count": 19,
      "outputs": [
        {
          "output_type": "stream",
          "name": "stdout",
          "text": [
            "Where did my vowels go\n",
            "abcd\n",
            "UPPERCASE\n"
          ]
        }
      ]
    },
    {
      "cell_type": "code",
      "source": [
        "'''4. Write a function that takes an IP address and returns the domain name\n",
        "using PTR DNS records.'''\n",
        "\n",
        "import socket\n",
        "def get_domain(ip):\n",
        "  return socket.gethostbyaddr(ip)[0]\n",
        "\n",
        "print(get_domain(\"8.8.8.8\"))\n",
        "print(get_domain(\"8.8.4.4\"))"
      ],
      "metadata": {
        "colab": {
          "base_uri": "https://localhost:8080/"
        },
        "id": "JXKi7dGksZov",
        "outputId": "80d063e5-5b0a-4b67-a727-3a4765602f35"
      },
      "execution_count": 23,
      "outputs": [
        {
          "output_type": "stream",
          "name": "stdout",
          "text": [
            "dns.google\n",
            "dns.google\n"
          ]
        }
      ]
    },
    {
      "cell_type": "code",
      "source": [
        "'''5. Create a function that takes an integer n and returns the factorial of\n",
        "factorials.'''\n",
        "\n",
        "def fact_of_fact(num):\n",
        "  res = 1\n",
        "  fact = [1,1]\n",
        "  for i in range(2,num+1):\n",
        "    j = i\n",
        "    fact0 = 1\n",
        "    while j!=0:\n",
        "      fact0 *=j\n",
        "      j-=1\n",
        "    fact.insert(i,fact0)\n",
        "  for i in fact:\n",
        "    res *= i\n",
        "  return res\n",
        "\n",
        "print(fact_of_fact(4))\n",
        "print(fact_of_fact(5))\n",
        "print(fact_of_fact(6))"
      ],
      "metadata": {
        "colab": {
          "base_uri": "https://localhost:8080/"
        },
        "id": "5Hqedv-puYBA",
        "outputId": "910301f6-a1c1-4082-a219-b67c13ed5993"
      },
      "execution_count": 29,
      "outputs": [
        {
          "output_type": "stream",
          "name": "stdout",
          "text": [
            "288\n",
            "34560\n",
            "24883200\n"
          ]
        }
      ]
    },
    {
      "cell_type": "code",
      "source": [
        ""
      ],
      "metadata": {
        "id": "WcUmXo2tvYXB"
      },
      "execution_count": null,
      "outputs": []
    }
  ]
}