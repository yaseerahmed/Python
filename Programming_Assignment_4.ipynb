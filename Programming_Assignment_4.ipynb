{
  "nbformat": 4,
  "nbformat_minor": 0,
  "metadata": {
    "colab": {
      "name": "Programming Assignment 4.ipynb",
      "provenance": [],
      "collapsed_sections": []
    },
    "kernelspec": {
      "name": "python3",
      "display_name": "Python 3"
    },
    "language_info": {
      "name": "python"
    }
  },
  "cells": [
    {
      "cell_type": "code",
      "metadata": {
        "colab": {
          "base_uri": "https://localhost:8080/"
        },
        "id": "ZEU-HdfQ7kKt",
        "outputId": "64d3cf51-7749-429f-9e99-3f199faea02d"
      },
      "source": [
        "# Factorial of a given number\n",
        "n = int(input(\"Enter a Number :\"))\n",
        "Fact = 1\n",
        "while n:\n",
        "  Fact *= n\n",
        "  n -= 1\n",
        "print(Fact)"
      ],
      "execution_count": 4,
      "outputs": [
        {
          "output_type": "stream",
          "name": "stdout",
          "text": [
            "Enter a Number :6\n",
            "720\n"
          ]
        }
      ]
    },
    {
      "cell_type": "code",
      "metadata": {
        "colab": {
          "base_uri": "https://localhost:8080/"
        },
        "id": "HRq0MVil7204",
        "outputId": "5e00aa22-04d5-4883-a13b-00a3a399e14b"
      },
      "source": [
        "# Multiplication Table\n",
        "n = int(input(\"Enter a Number :\"))\n",
        "for i in range(1,11):\n",
        "  print(n,\" x \",i,\" = \",n*i)"
      ],
      "execution_count": 6,
      "outputs": [
        {
          "output_type": "stream",
          "name": "stdout",
          "text": [
            "Enter a Number :4\n",
            "4  x  1  =  4\n",
            "4  x  2  =  8\n",
            "4  x  3  =  12\n",
            "4  x  4  =  16\n",
            "4  x  5  =  20\n",
            "4  x  6  =  24\n",
            "4  x  7  =  28\n",
            "4  x  8  =  32\n",
            "4  x  9  =  36\n",
            "4  x  10  =  40\n"
          ]
        }
      ]
    },
    {
      "cell_type": "code",
      "metadata": {
        "colab": {
          "base_uri": "https://localhost:8080/"
        },
        "id": "bf0_xjg28UCO",
        "outputId": "49cff9bd-f941-40a5-b128-524486039f94"
      },
      "source": [
        "# Fibonacci sequence\n",
        "n = int(input(\"Enter a Number :\"))\n",
        "fbi = [0,1]\n",
        "for i in range(2,n+1):\n",
        "  fbi.append(fbi[i-1] + fbi[i-2])\n",
        "for i in fbi:\n",
        "  print(i,end=\" , \")"
      ],
      "execution_count": 9,
      "outputs": [
        {
          "output_type": "stream",
          "name": "stdout",
          "text": [
            "Enter a Number :8\n",
            "0 , 1 , 1 , 2 , 3 , 5 , 8 , 13 , 21 , "
          ]
        }
      ]
    },
    {
      "cell_type": "code",
      "metadata": {
        "colab": {
          "base_uri": "https://localhost:8080/"
        },
        "id": "0wptHlDC8_Q7",
        "outputId": "46025596-02af-4d9a-d611-e29e72dc7b82"
      },
      "source": [
        "# Check AMstrong number\n",
        "n = int(input(\"Enter a Number :\"))\n",
        "act = n\n",
        "sumof = 0\n",
        "while n >  0:\n",
        "  sumof += int((n%10))**3\n",
        "  n /= 10\n",
        "if sumof == act:\n",
        "  print(\"Amstrong Number\")\n",
        "else:\n",
        "  print(\"Not an Amstrong Number\")\n"
      ],
      "execution_count": 17,
      "outputs": [
        {
          "output_type": "stream",
          "name": "stdout",
          "text": [
            "Enter a Number :371\n",
            "Amstrong Number\n"
          ]
        }
      ]
    },
    {
      "cell_type": "code",
      "metadata": {
        "colab": {
          "base_uri": "https://localhost:8080/"
        },
        "id": "kF51T8aT-P_R",
        "outputId": "67576cca-a5cf-4411-eafc-4c909a8b513a"
      },
      "source": [
        "# Find Amstrong numbers in an interval\n",
        "Start = int(input(\"Give the Starting range : \"))\n",
        "End = int(input(\"Give the Last range : \"))\n",
        "for i in range(Start,End+1):\n",
        "  if i in [0,1]:\n",
        "    continue\n",
        "  act = i\n",
        "  sumof = 0\n",
        "  while i > 0:\n",
        "    sumof += int((i%10))**3\n",
        "    i /= 10\n",
        "  if sumof == act:\n",
        "    print(act,end=\" , \")"
      ],
      "execution_count": 30,
      "outputs": [
        {
          "output_type": "stream",
          "name": "stdout",
          "text": [
            "Give the Starting range : 0\n",
            "Give the Last range : 500\n",
            "153 , 370 , 371 , 407 , "
          ]
        }
      ]
    },
    {
      "cell_type": "code",
      "metadata": {
        "colab": {
          "base_uri": "https://localhost:8080/"
        },
        "id": "hkkqFuE0_gpW",
        "outputId": "e668d39a-380a-414e-8586-e80906b37034"
      },
      "source": [
        "# Sum of natural numbers\n",
        "n = int(input(\"Enter a Number :\"))\n",
        "print(n*(n+1)/2)"
      ],
      "execution_count": 32,
      "outputs": [
        {
          "output_type": "stream",
          "name": "stdout",
          "text": [
            "Enter a Number :5\n",
            "15.0\n"
          ]
        }
      ]
    },
    {
      "cell_type": "code",
      "metadata": {
        "id": "TpIAG898BTyN"
      },
      "source": [
        "|"
      ],
      "execution_count": null,
      "outputs": []
    }
  ]
}