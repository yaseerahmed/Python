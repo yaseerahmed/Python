{
  "nbformat": 4,
  "nbformat_minor": 0,
  "metadata": {
    "colab": {
      "name": "Programming Assignment 1.ipynb",
      "provenance": [],
      "collapsed_sections": []
    },
    "kernelspec": {
      "name": "python3",
      "display_name": "Python 3"
    },
    "language_info": {
      "name": "python"
    }
  },
  "cells": [
    {
      "cell_type": "code",
      "metadata": {
        "colab": {
          "base_uri": "https://localhost:8080/"
        },
        "id": "h8OsLH__HAvx",
        "outputId": "4923eb20-be6f-43df-dfef-c5382c585bf5"
      },
      "source": [
        "#Print Messafgge\n",
        "print(\"Hello Python\")"
      ],
      "execution_count": 17,
      "outputs": [
        {
          "output_type": "stream",
          "name": "stdout",
          "text": [
            "Hello Python\n"
          ]
        }
      ]
    },
    {
      "cell_type": "code",
      "metadata": {
        "colab": {
          "base_uri": "https://localhost:8080/"
        },
        "id": "7jHCcr_HHGnE",
        "outputId": "e8177b91-77e9-44e5-d395-019084f91a59"
      },
      "source": [
        "#Arthematic operations\n",
        "#num1,num2 = map(int,input().split())              #give input as num1 num2\n",
        "num1 = int(input())\n",
        "num2 = int(input())\n",
        "print(\"Addition       :\",num1 + num2)\n",
        "print(\"Subraction     :\",num1 - num2)\n",
        "print(\"Multiplication :\",num1 * num2)\n",
        "print(\"Division       :\",num1 / num2)\n",
        "print(\"Modulo         :\",num1 % num2)"
      ],
      "execution_count": 18,
      "outputs": [
        {
          "output_type": "stream",
          "name": "stdout",
          "text": [
            "10\n",
            "5\n",
            "Addition       : 15\n",
            "Subraction     : 5\n",
            "Multiplication : 50\n",
            "Division       : 2.0\n",
            "Modulo         : 0\n"
          ]
        }
      ]
    },
    {
      "cell_type": "code",
      "metadata": {
        "colab": {
          "base_uri": "https://localhost:8080/"
        },
        "id": "L90NR9XjHZU2",
        "outputId": "8c9cd58a-fb28-4ad2-b938-e012321b4d40"
      },
      "source": [
        "#Area of Triangle\n",
        "b = int(input(\"Base length = \"))\n",
        "h = int(input(\"Height  = \"))\n",
        "print(\"Area of Triangle =\",0.5*b*h)"
      ],
      "execution_count": 19,
      "outputs": [
        {
          "output_type": "stream",
          "name": "stdout",
          "text": [
            "Base length = 10\n",
            "Height  = 10\n",
            "Area of Triangle = 50.0\n"
          ]
        }
      ]
    },
    {
      "cell_type": "code",
      "metadata": {
        "colab": {
          "base_uri": "https://localhost:8080/"
        },
        "id": "YjKa8OR6Qm-9",
        "outputId": "efaf07a7-e9d7-4ecb-e882-53beecd656f3"
      },
      "source": [
        "#swap two varaibles\n",
        "var1 = int(input(\"Initial var1 = \"))\n",
        "var2 = int(input(\"Initial var2 = \"))\n",
        "var1 , var2 = var2 , var1\n",
        "print(\"swapped var1 = \",var1)\n",
        "print(\"swapped var2 = \",var2)"
      ],
      "execution_count": 20,
      "outputs": [
        {
          "output_type": "stream",
          "name": "stdout",
          "text": [
            "Initial var1 = 10\n",
            "Initial var2 = 0\n",
            "swapped var1 =  0\n",
            "swapped var2 =  10\n"
          ]
        }
      ]
    },
    {
      "cell_type": "code",
      "metadata": {
        "colab": {
          "base_uri": "https://localhost:8080/"
        },
        "id": "CyCOq4kqRL8q",
        "outputId": "e084af29-189e-4998-86fd-d0a5e214f167"
      },
      "source": [
        "from random import randint\n",
        "print(randint(1,10))"
      ],
      "execution_count": 21,
      "outputs": [
        {
          "output_type": "stream",
          "name": "stdout",
          "text": [
            "4\n"
          ]
        }
      ]
    },
    {
      "cell_type": "code",
      "metadata": {
        "id": "1R5lJKCzSZ2c"
      },
      "source": [
        ""
      ],
      "execution_count": null,
      "outputs": []
    }
  ]
}