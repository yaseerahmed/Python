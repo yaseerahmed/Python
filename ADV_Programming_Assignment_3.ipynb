{
  "nbformat": 4,
  "nbformat_minor": 0,
  "metadata": {
    "colab": {
      "name": "ADV_Programming Assignment_3",
      "provenance": []
    },
    "kernelspec": {
      "name": "python3",
      "display_name": "Python 3"
    },
    "language_info": {
      "name": "python"
    }
  },
  "cells": [
    {
      "cell_type": "code",
      "execution_count": 12,
      "metadata": {
        "colab": {
          "base_uri": "https://localhost:8080/"
        },
        "id": "0xrZV7k4D3cz",
        "outputId": "8af4ce6d-ad74-4775-ff05-380742d947b7"
      },
      "outputs": [
        {
          "output_type": "stream",
          "name": "stdout",
          "text": [
            "24\n",
            "144\n",
            "None\n"
          ]
        }
      ],
      "source": [
        "'''1. Create a function to perform basic arithmetic operations that includes\n",
        "addition, subtraction, multiplication and division on a string number (e.g. &quot;12 +\n",
        "24&quot; or &quot;23 - 21&quot; or &quot;12 // 12&quot; or &quot;12 * 21&quot;).'''\n",
        "\n",
        "def arthemetic_out(s):\n",
        "  num1=0\n",
        "  num2=0\n",
        "  i=0\n",
        "  while s[i]:\n",
        "    num1 = num1*10 + int(s[i])\n",
        "    i+=1\n",
        "    if s[i] == ' ':\n",
        "      break\n",
        "  \n",
        "  num2 = int(s[i+3:])\n",
        "  op = s[i+1]\n",
        "  if op == '+':\n",
        "    return num1 + num2\n",
        "  elif op == '-':\n",
        "    return num1 - num2\n",
        "  elif op == '*':\n",
        "    return num1 * num2\n",
        "  elif op == '//':\n",
        "    if num2==0:\n",
        "      return -1\n",
        "    return num1//num2\n",
        "print(arthemetic_out(\"12 + 12\"))\n",
        "print(arthemetic_out(\"12 * 12\"))\n",
        "print(arthemetic_out(\"12 // 0\"))"
      ]
    },
    {
      "cell_type": "code",
      "source": [
        "'''2. Write a function that takes the coordinates of three points in the form of a\n",
        "2d array and returns the perimeter of the triangle. The given points are the\n",
        "vertices of a triangle on a two-dimensional plane.\n",
        "Examples\n",
        "perimeter( [ [15, 7], [5, 22], [11, 1] ] ) ➞ 47.08\n",
        "perimeter( [ [0, 0], [0, 1], [1, 0] ] ) ➞ 3.42\n",
        "perimeter( [ [-10, -10], [10, 10 ], [-10, 10] ] ) ➞ 68.28'''\n",
        "import math\n",
        "def cal_peri(li):\n",
        "  A = math.sqrt( (li[0][0] - li[1][0])**2 + (li[0][1] - li[1][1])**2)\n",
        "  B = math.sqrt( (li[1][0] - li[2][0])**2 + (li[1][1] - li[2][1])**2)\n",
        "  C = math.sqrt( (li[2][0] - li[0][0])**2 + (li[2][1] - li[0][1])**2)\n",
        "  return A+B+C\n",
        "\n",
        "print(cal_peri([ [15, 7], [5, 22], [11, 1] ]))\n",
        "print(cal_peri([[0, 0], [0, 1], [1, 0] ]))\n",
        "print(cal_peri([ [-10, -10], [10, 10 ], [-10, 10] ] ))"
      ],
      "metadata": {
        "colab": {
          "base_uri": "https://localhost:8080/"
        },
        "id": "iVnAXudKHgty",
        "outputId": "e2f855cc-f485-416f-b342-43175f635145"
      },
      "execution_count": 22,
      "outputs": [
        {
          "output_type": "stream",
          "name": "stdout",
          "text": [
            "47.07918859608948\n",
            "3.414213562373095\n",
            "68.2842712474619\n"
          ]
        }
      ]
    },
    {
      "cell_type": "code",
      "source": [
        "'''3. A city skyline can be represented as a 2-D list with 1s representing\n",
        "buildings. In the example below, the height of the tallest building is 4 (second-\n",
        "most right column).\n",
        "[[0, 0, 0, 0, 0, 0],\n",
        "[0, 0, 0, 0, 1, 0],\n",
        "[0, 0, 1, 0, 1, 0],\n",
        "[0, 1, 1, 1, 1, 0],\n",
        "[1, 1, 1, 1, 1, 1]]\n",
        "Create a function that takes a skyline (2-D list of 0&#39;s and 1&#39;s) and returns the\n",
        "height of the tallest skyscraper.'''\n",
        "\n",
        "def tall_skyline(li):\n",
        "  l = len(li)\n",
        "  su = 0\n",
        "  msum=0\n",
        "  for i in range(l):\n",
        "    for j in range(l):\n",
        "      su += li[j][i]\n",
        "    msum = max(msum,su)\n",
        "    su = 0\n",
        "  return msum\n",
        "\n",
        "print(tall_skyline([[0, 0, 0, 0, 0, 0],\n",
        "[0, 0, 0, 0, 1, 0],\n",
        "[0, 0, 1, 0, 1, 0],\n",
        "[0, 1, 1, 1, 1, 0],\n",
        "[1, 1, 1, 1, 1, 1]]))\n",
        "print(tall_skyline([\n",
        "[0, 0, 0, 0],\n",
        "[0, 1, 0, 0],\n",
        "[0, 1, 1, 0],\n",
        "[1, 1, 1, 1]]))\n",
        "\n"
      ],
      "metadata": {
        "colab": {
          "base_uri": "https://localhost:8080/"
        },
        "id": "rye6T2xmKaxh",
        "outputId": "c7fa651a-8933-4547-a574-c34b98ee743b"
      },
      "execution_count": 30,
      "outputs": [
        {
          "output_type": "stream",
          "name": "stdout",
          "text": [
            "4\n",
            "3\n"
          ]
        }
      ]
    },
    {
      "cell_type": "code",
      "source": [
        "'''4. A financial institution provides professional services to banks and claims\n",
        "charges from the customers based on the number of man-days provided.\n",
        "Internally, it has set a scheme to motivate and reward staff to meet and\n",
        "exceed targeted billable utilization and revenues by paying a bonus for each\n",
        "day claimed from customers in excess of a threshold target.\n",
        "This quarterly scheme is calculated with a threshold target of 32 days per\n",
        "quarter, and the incentive payment for each billable day in excess of such\n",
        "threshold target is shown as follows:\n",
        "Days Bonus\n",
        "0 to 32 days Zero\n",
        "33 to 40 days SGD$325 per billable day\n",
        "41 to 48 days SGD$550 per billable day\n",
        "Greater than 48 days SGD$600 per billable day\n",
        "\n",
        "Please note that incentive payment is calculated progressively. As an\n",
        "example, if an employee reached total billable days of 45 in a quarter, his/her\n",
        "incentive payment is computed as follows:\n",
        "32*0 + 8*325 + 5*550 = 5350\n",
        "Write a function to read the billable days of an employee and return the bonus\n",
        "he/she has obtained in that quarter.'''\n",
        "\n",
        "def billable_days(num):\n",
        "  if num <= 32:\n",
        "    return 0\n",
        "  elif num <= 40:\n",
        "    return (num - 32)*325\n",
        "  elif num <= 48:\n",
        "    return (num - 40)*550 + 8*325\n",
        "  else:\n",
        "    return (num - 48)*600 + 8*550 + 8*325\n",
        "\n",
        "print(billable_days(45)) #5350\n",
        "print(billable_days(15)) #0\n",
        "print(billable_days(37)) #1625\n",
        "print(billable_days(50)) #8200"
      ],
      "metadata": {
        "colab": {
          "base_uri": "https://localhost:8080/"
        },
        "id": "FJB0zJKTNDeF",
        "outputId": "792b09b7-bb55-4f04-f345-7ada6112e0b4"
      },
      "execution_count": 33,
      "outputs": [
        {
          "output_type": "stream",
          "name": "stdout",
          "text": [
            "5350\n",
            "0\n",
            "1625\n",
            "8200\n"
          ]
        }
      ]
    },
    {
      "cell_type": "code",
      "source": [
        "'''5. A number is said to be Disarium if the sum of its digits raised to their\n",
        "respective positions is the number itself.'''\n",
        "\n",
        "def Disarium(num):\n",
        "  n = str(num)\n",
        "  res = 0\n",
        "  for i in range(len(n)):\n",
        "    res += int(n[i])**(i+1)\n",
        "  if res == num:\n",
        "    return True\n",
        "  return False\n",
        "\n",
        "print(Disarium(135)) #True\n",
        "print(Disarium(75)) #False\n",
        "print(Disarium(544)) #True"
      ],
      "metadata": {
        "id": "l88plbz0PsrX",
        "outputId": "482c3d90-8969-4a19-90d8-c0a7f3f2aeff",
        "colab": {
          "base_uri": "https://localhost:8080/"
        }
      },
      "execution_count": 37,
      "outputs": [
        {
          "output_type": "stream",
          "name": "stdout",
          "text": [
            "True\n",
            "False\n",
            "False\n"
          ]
        }
      ]
    },
    {
      "cell_type": "code",
      "source": [
        ""
      ],
      "metadata": {
        "id": "wLDHaBhzRdhJ"
      },
      "execution_count": null,
      "outputs": []
    }
  ]
}