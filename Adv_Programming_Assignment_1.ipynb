{
  "nbformat": 4,
  "nbformat_minor": 0,
  "metadata": {
    "colab": {
      "name": " Adv_Programming Assignment_1.ipynb",
      "provenance": [],
      "collapsed_sections": []
    },
    "kernelspec": {
      "name": "python3",
      "display_name": "Python 3"
    },
    "language_info": {
      "name": "python"
    }
  },
  "cells": [
    {
      "cell_type": "code",
      "source": [
        "#1. Write a function that takes a list of lists and returns the value of all of the\n",
        "#  symbols in it, where each symbol adds or takes something from the total\n",
        "#  score. Symbol values:\n",
        "#  # = 5\n",
        "#  O = 3\n",
        "#  X = 1\n",
        "#  ! = -1\n",
        "#  !! = -3\n",
        "#  !!! = -5"
      ],
      "metadata": {
        "id": "9DtwPO_g6LX9"
      },
      "execution_count": 27,
      "outputs": []
    },
    {
      "cell_type": "code",
      "execution_count": 7,
      "metadata": {
        "id": "zocBxzl92djA"
      },
      "outputs": [],
      "source": [
        "def checkscore(lists):\n",
        "  count = 0\n",
        "  for i in range(len(lists)):\n",
        "    for j in lists[i]:\n",
        "      if j == \"#\":\n",
        "        count +=5\n",
        "      elif j == \"O\":\n",
        "        count += 3\n",
        "      elif j == \"X\":\n",
        "        count += 1\n",
        "      elif j == \"!\":\n",
        "        count -= 1\n",
        "      elif j == \"!!\":\n",
        "        count -= 3\n",
        "      elif j == \"!!!\":\n",
        "        count -= 5\n",
        "  return count"
      ]
    },
    {
      "cell_type": "code",
      "source": [
        "test1 = checkscore([[\"#\",\"!\"],[\"!!\",\"X\"]])\n",
        "if test1 >=0:\n",
        "  print(test1)\n",
        "else:\n",
        "  print(0)"
      ],
      "metadata": {
        "colab": {
          "base_uri": "https://localhost:8080/"
        },
        "id": "1qQWWXoO4E9q",
        "outputId": "d493029e-9ca7-463c-c170-cfde516e0868"
      },
      "execution_count": 13,
      "outputs": [
        {
          "output_type": "stream",
          "name": "stdout",
          "text": [
            "2\n"
          ]
        }
      ]
    },
    {
      "cell_type": "code",
      "source": [
        "test2 = checkscore([[\"!!!\",\"O\",\"!\"],[\"X\",\"#\",\"!!!\"],[\"!!\",\"X\",\"O\"]])\n",
        "if test2 >=0:\n",
        "  print(test2)\n",
        "else:\n",
        "  print(0)"
      ],
      "metadata": {
        "colab": {
          "base_uri": "https://localhost:8080/"
        },
        "id": "BIF9r5Yt479U",
        "outputId": "3e41079d-b112-442a-b7dd-fce0cfb09c50"
      },
      "execution_count": 14,
      "outputs": [
        {
          "output_type": "stream",
          "name": "stdout",
          "text": [
            "0\n"
          ]
        }
      ]
    },
    {
      "cell_type": "code",
      "source": [
        "#2.  Create a function that takes a variable number of arguments, each\n",
        "#    argument representing the number of items in a group, and returns the\n",
        "#    number of permutations (combinations) of items that you could get by taking\n",
        "#    one item from each group.\n",
        "#    Examples\n",
        "#    combinations(2, 3) ➞ 6\n",
        "#    combinations(3, 7, 4) ➞ 84\n",
        "#    combinations(2, 3, 4, 5) ➞ 120"
      ],
      "metadata": {
        "id": "g1I81FRy5-Xe"
      },
      "execution_count": 16,
      "outputs": []
    },
    {
      "cell_type": "code",
      "source": [
        "def combinations(list1):\n",
        "  if list1 is not None:\n",
        "    ans = 1\n",
        "    for i in list1:\n",
        "      ans *= i\n",
        "    return ans\n",
        "  return 0"
      ],
      "metadata": {
        "id": "lvlmO7447Y-5"
      },
      "execution_count": 22,
      "outputs": []
    },
    {
      "cell_type": "code",
      "source": [
        "ex1 = combinations([2, 3])\n",
        "print(ex1)"
      ],
      "metadata": {
        "colab": {
          "base_uri": "https://localhost:8080/"
        },
        "id": "cvRK4AS979Mk",
        "outputId": "541afa40-08da-429c-a454-d060a96c98be"
      },
      "execution_count": 23,
      "outputs": [
        {
          "output_type": "stream",
          "name": "stdout",
          "text": [
            "6\n"
          ]
        }
      ]
    },
    {
      "cell_type": "code",
      "source": [
        "ex2 = combinations([3, 7, 4])\n",
        "print(ex2)"
      ],
      "metadata": {
        "colab": {
          "base_uri": "https://localhost:8080/"
        },
        "id": "kPXL-f8n8JES",
        "outputId": "f25a60e6-e313-498a-f3cd-6ab1baf5d508"
      },
      "execution_count": 26,
      "outputs": [
        {
          "output_type": "stream",
          "name": "stdout",
          "text": [
            "84\n"
          ]
        }
      ]
    },
    {
      "cell_type": "code",
      "source": [
        "ex3 = combinations([2, 3, 4, 5])\n",
        "print(ex3)"
      ],
      "metadata": {
        "colab": {
          "base_uri": "https://localhost:8080/"
        },
        "id": "VlDf0lFP8W4k",
        "outputId": "a4214fa9-31c6-4993-c30d-e54951bd8cae"
      },
      "execution_count": 25,
      "outputs": [
        {
          "output_type": "stream",
          "name": "stdout",
          "text": [
            "120\n"
          ]
        }
      ]
    },
    {
      "cell_type": "code",
      "source": [
        "#3. Create a function that takes a string as an argument and returns the Morse\n",
        "#  code equivalent.\n",
        "#  Examples\n",
        "#  encode_morse(&quot;EDABBIT CHALLENGE&quot;) ➞ &quot;. -.. .- -... -... .. - -.-. .... .- .-.. .-..\n",
        "#  . -. --. .&quot;\n",
        "#  encode_morse(&quot;HELP ME !&quot;) ➞ &quot;.... . .-.. .--. -- . -.-.--&quot;\n",
        "#  This dictionary can be used for coding:\n",
        "#  char_to_dots = {\n",
        "#    'A':'.-','B':'-...','C':'-.-.','D':'-..','E':'.','F':'..-',\n",
        "#    'G':'--','H':'....','I':'..','J':'---','K':'-.-','L':'.-..',\n",
        "#    'M':'--.','N':'-.','O':'---','P':'.--','Q':'--.-','R':'.-.',\n",
        "#    'S':'...','T':'-','U':'..-','V':'...-','W':'.--','X':'-..-',\n",
        "#    'Y':'-.--','Z':'--..',':':'','0':'-----','!':'-.-.--'\n",
        "#  }"
      ],
      "metadata": {
        "id": "er_m4PuB8elG"
      },
      "execution_count": 30,
      "outputs": []
    },
    {
      "cell_type": "code",
      "source": [
        "char_to_dots = {\n",
        "    'A':'.-','B':'-...','C':'-.-.','D':'-..','E':'.','F':'..-',\n",
        "    'G':'--','H':'....','I':'..','J':'---','K':'-.-','L':'.-..',\n",
        "    'M':'--.','N':'-.','O':'---','P':'.--','Q':'--.-','R':'.-.',\n",
        "    'S':'...','T':'-','U':'..-','V':'...-','W':'.--','X':'-..-',\n",
        "    'Y':'-.--','Z':'--..',':':'','0':'-----','!':'-.-.--',' ':' '\n",
        "    \n",
        "}\n",
        "def encode_morse(str1):\n",
        "  l1 = list(str1)\n",
        "  for i in l1:\n",
        "    print(char_to_dots[i],end=\"\")\n",
        "  print()"
      ],
      "metadata": {
        "id": "FTG6CS1H9fmn"
      },
      "execution_count": 64,
      "outputs": []
    },
    {
      "cell_type": "code",
      "source": [
        "#test1\n",
        "encode_morse(\"EDABBIT CHALLENGE\")"
      ],
      "metadata": {
        "colab": {
          "base_uri": "https://localhost:8080/"
        },
        "id": "rj94BufR_x1O",
        "outputId": "44a7ce35-ddf9-4735-d41e-ad99cdd564da"
      },
      "execution_count": 65,
      "outputs": [
        {
          "output_type": "stream",
          "name": "stdout",
          "text": [
            ".-...--...-.....- -.-......-.-...-...-.--.\n"
          ]
        }
      ]
    },
    {
      "cell_type": "code",
      "source": [
        "#test2\n",
        "encode_morse(\"HELP ME !\")"
      ],
      "metadata": {
        "colab": {
          "base_uri": "https://localhost:8080/"
        },
        "id": "zXAsCJ3nAg7q",
        "outputId": "7abfd9e7-6007-42a7-e3c4-520337d8809e"
      },
      "execution_count": 66,
      "outputs": [
        {
          "output_type": "stream",
          "name": "stdout",
          "text": [
            "......-...-- --.. -.-.--\n"
          ]
        }
      ]
    },
    {
      "cell_type": "code",
      "source": [
        "#4.Write a function that takes a number and returns True if it&#39;s a prime; False\n",
        "#  otherwise. The number can be 2^64-1 (2 to the power of 63, not XOR). With\n",
        "#  the standard technique it would be O(2^64-1), which is much too large for the\n",
        "#  10 second time limit.\n",
        "#  Examples\n",
        "#  prime(7) ➞ True\n",
        "#  prime(56963) ➞ True\n",
        "#  prime(5151512515524) ➞ False"
      ],
      "metadata": {
        "id": "0hQr_XS4A-NI"
      },
      "execution_count": 68,
      "outputs": []
    },
    {
      "cell_type": "code",
      "source": [
        "from math import *\n",
        "def isprime(num):\n",
        "  for i in range(2,int(sqrt(num))):\n",
        "    if num%i == 0:\n",
        "      return False\n",
        "  return True"
      ],
      "metadata": {
        "id": "xfgPQA4-FNww"
      },
      "execution_count": 72,
      "outputs": []
    },
    {
      "cell_type": "code",
      "source": [
        "#test1\n",
        "print(isprime(7))"
      ],
      "metadata": {
        "colab": {
          "base_uri": "https://localhost:8080/"
        },
        "id": "m0gpGBD-F2V2",
        "outputId": "1b5e5109-ca71-4e53-c1ad-7b4eeb22347f"
      },
      "execution_count": 74,
      "outputs": [
        {
          "output_type": "stream",
          "name": "stdout",
          "text": [
            "True\n"
          ]
        }
      ]
    },
    {
      "cell_type": "code",
      "source": [
        "#test2\n",
        "print(isprime(56963))"
      ],
      "metadata": {
        "colab": {
          "base_uri": "https://localhost:8080/"
        },
        "id": "GaxT4lyHF7Y5",
        "outputId": "cee5c42f-80c4-447b-ef23-47c7d80d8047"
      },
      "execution_count": 75,
      "outputs": [
        {
          "output_type": "stream",
          "name": "stdout",
          "text": [
            "True\n"
          ]
        }
      ]
    },
    {
      "cell_type": "code",
      "source": [
        "#test3\n",
        "print(isprime(5151512515524))"
      ],
      "metadata": {
        "colab": {
          "base_uri": "https://localhost:8080/"
        },
        "id": "Rl3DAzcdGH93",
        "outputId": "5e1ec303-c1f9-4ada-fb8d-e89236b9119b"
      },
      "execution_count": 76,
      "outputs": [
        {
          "output_type": "stream",
          "name": "stdout",
          "text": [
            "False\n"
          ]
        }
      ]
    },
    {
      "cell_type": "code",
      "source": [
        "#5. Create a function that converts a word to a bit string and then to a boolean\n",
        "#  list based on the following criteria:\n",
        "#  1. Locate the position of the letter in the English alphabet (from 1 to 26).\n",
        "#  2. Odd positions will be represented as 1 and 0 otherwise.\n",
        "#  3. Convert the represented positions to boolean values, 1 for True and 0\n",
        "#  for False.\n",
        "#  4. Store the conversions into an array.\n",
        "#  Examples\n",
        "#  to_boolean_list(deep) ➞ [False, True, True, False]\n",
        "#  # deep converts to 0110\n",
        "#  # d is the 4th alphabet - 0\n",
        "#  # e is the 5th alphabet - 1\n",
        "#  # e is the 5th alphabet - 1\n",
        "#  # p is the 16th alphabet - 0\n",
        "#  to_boolean_list(loves) ➞ [False, True, False, True, True]\n",
        "#  to_boolean_list(;tesh) ➞ [False, True, True, False]"
      ],
      "metadata": {
        "id": "Rob4tp0BGL5d"
      },
      "execution_count": 77,
      "outputs": []
    },
    {
      "cell_type": "code",
      "source": [
        "def to_boolean_list(str1):\n",
        "  li = []\n",
        "  for i in str1:\n",
        "    if ord(i)%2 == 0:\n",
        "      li.append(False)\n",
        "    else:\n",
        "      li.append(True)\n",
        "  return li"
      ],
      "metadata": {
        "id": "dVWyWoxjHNcb"
      },
      "execution_count": 85,
      "outputs": []
    },
    {
      "cell_type": "code",
      "source": [
        "#test1\n",
        "print(to_boolean_list(\"deep\"))"
      ],
      "metadata": {
        "colab": {
          "base_uri": "https://localhost:8080/"
        },
        "id": "IJwuLuyaHjtF",
        "outputId": "661d994c-1f8b-45dd-82b4-5d4fc54c9ca7"
      },
      "execution_count": 86,
      "outputs": [
        {
          "output_type": "stream",
          "name": "stdout",
          "text": [
            "[False, True, True, False]\n"
          ]
        }
      ]
    },
    {
      "cell_type": "code",
      "source": [
        "#test2\n",
        "print(to_boolean_list(\"loves\"))"
      ],
      "metadata": {
        "colab": {
          "base_uri": "https://localhost:8080/"
        },
        "id": "DoQOqDHPHmhX",
        "outputId": "8be1889a-065d-4c25-ba0f-a09dfa0ab772"
      },
      "execution_count": 87,
      "outputs": [
        {
          "output_type": "stream",
          "name": "stdout",
          "text": [
            "[False, True, False, True, True]\n"
          ]
        }
      ]
    },
    {
      "cell_type": "code",
      "source": [
        "#test3\n",
        "print(to_boolean_list(\"tesh\"))"
      ],
      "metadata": {
        "colab": {
          "base_uri": "https://localhost:8080/"
        },
        "id": "AorWmyHCIYhp",
        "outputId": "5eaa5fb0-01b4-450e-b6f3-26f7c176e4a1"
      },
      "execution_count": 88,
      "outputs": [
        {
          "output_type": "stream",
          "name": "stdout",
          "text": [
            "[False, True, True, False]\n"
          ]
        }
      ]
    },
    {
      "cell_type": "code",
      "source": [
        ""
      ],
      "metadata": {
        "id": "ImbQKs9fImvT"
      },
      "execution_count": null,
      "outputs": []
    }
  ]
}