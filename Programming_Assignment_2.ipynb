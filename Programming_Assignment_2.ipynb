{
  "nbformat": 4,
  "nbformat_minor": 0,
  "metadata": {
    "colab": {
      "name": "Programming_Assignment_2.ipynb",
      "provenance": [],
      "collapsed_sections": []
    },
    "kernelspec": {
      "name": "python3",
      "display_name": "Python 3"
    },
    "language_info": {
      "name": "python"
    }
  },
  "cells": [
    {
      "cell_type": "code",
      "metadata": {
        "colab": {
          "base_uri": "https://localhost:8080/"
        },
        "id": "KQBER6n2e2lZ",
        "outputId": "45b8c640-157d-4957-f7d3-91c575784d69"
      },
      "source": [
        "# Convert KM to Miles\n",
        "Km = float(input(\"Kilo meter :\"))\n",
        "print(\"Miles =\",0.621371*Km)"
      ],
      "execution_count": 5,
      "outputs": [
        {
          "output_type": "stream",
          "name": "stdout",
          "text": [
            "Kilo meter :10\n",
            "Miles = 6.21371\n"
          ]
        }
      ]
    },
    {
      "cell_type": "code",
      "metadata": {
        "colab": {
          "base_uri": "https://localhost:8080/"
        },
        "id": "7XtMnvFSgdbW",
        "outputId": "1ac77391-3379-488d-9601-e3c3c65c285e"
      },
      "source": [
        "# Convert Celsius to Fahrenheit\n",
        "Cs = float(input(\"Celsius =\"))\n",
        "print(\"Fahrenheit =\",32*Cs)"
      ],
      "execution_count": 6,
      "outputs": [
        {
          "output_type": "stream",
          "name": "stdout",
          "text": [
            "Celsius =100\n",
            "Fahrenheit = 3200.0\n"
          ]
        }
      ]
    },
    {
      "cell_type": "code",
      "metadata": {
        "colab": {
          "base_uri": "https://localhost:8080/"
        },
        "id": "7La4498ChRAA",
        "outputId": "43407e1c-d308-4901-cc9a-aaf2d60f9b71"
      },
      "source": [
        "# Program to display calendar\n",
        "import calendar\n",
        "\n",
        "yy = 2021  \n",
        "mm = 12    \n",
        "print(calendar.month(yy, mm))\n"
      ],
      "execution_count": 7,
      "outputs": [
        {
          "output_type": "stream",
          "name": "stdout",
          "text": [
            "   December 2021\n",
            "Mo Tu We Th Fr Sa Su\n",
            "       1  2  3  4  5\n",
            " 6  7  8  9 10 11 12\n",
            "13 14 15 16 17 18 19\n",
            "20 21 22 23 24 25 26\n",
            "27 28 29 30 31\n",
            "\n"
          ]
        }
      ]
    },
    {
      "cell_type": "code",
      "metadata": {
        "colab": {
          "base_uri": "https://localhost:8080/"
        },
        "id": "9W5bXJTApd7f",
        "outputId": "becf73eb-8f09-48f5-9e62-d9ae0debd2e9"
      },
      "source": [
        "# Solve Quadratic equation\n",
        "# Let Quadratic equation be 4x^2-8x+4=0\n",
        "import cmath\n",
        "qE = input(\"Quadratic Equation :\")\n",
        "a = int(qE[0])\n",
        "b = int(qE[5])\n",
        "c = int(qE[8])\n",
        "root1 = (-b + cmath.sqrt(b**2 -4*a*c))/(2*a)\n",
        "root2 = (-b - cmath.sqrt(b**2 -4*a*c))/(2*a)\n",
        "print(\"First root : \",root1)\n",
        "print(\"Second root: \",root2)"
      ],
      "execution_count": 13,
      "outputs": [
        {
          "output_type": "stream",
          "name": "stdout",
          "text": [
            "Quadratic Equation :4x^2-8x+4=0\n",
            "First root :  (-1+0j)\n",
            "Second root:  (-1+0j)\n"
          ]
        }
      ]
    },
    {
      "cell_type": "code",
      "metadata": {
        "colab": {
          "base_uri": "https://localhost:8080/"
        },
        "id": "bw7E0g5RqaXB",
        "outputId": "6329e370-b0eb-4764-9cf1-394c0373f2ad"
      },
      "source": [
        "#Swap two variables without using a number\n",
        "#swap two varaibles\n",
        "var1 = int(input(\"Initial var1 = \"))\n",
        "var2 = int(input(\"Initial var2 = \"))\n",
        "var1 , var2 = var2 , var1\n",
        "print(\"swapped var1 = \",var1)\n",
        "print(\"swapped var2 = \",var2)"
      ],
      "execution_count": 14,
      "outputs": [
        {
          "output_type": "stream",
          "name": "stdout",
          "text": [
            "Initial var1 = 10\n",
            "Initial var2 = 20\n",
            "swapped var1 =  20\n",
            "swapped var2 =  10\n"
          ]
        }
      ]
    },
    {
      "cell_type": "code",
      "metadata": {
        "id": "gu-oPGfFsFxb"
      },
      "source": [
        ""
      ],
      "execution_count": null,
      "outputs": []
    }
  ]
}