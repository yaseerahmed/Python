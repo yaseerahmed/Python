{
  "cells": [
    {
      "cell_type": "code",
      "execution_count": null,
      "metadata": {
        "colab": {
          "base_uri": "https://localhost:8080/"
        },
        "id": "xIiXRuz-RdGc",
        "outputId": "89e5116b-5311-43ae-ca13-cdf1584a4969"
      },
      "outputs": [
        {
          "name": "stdout",
          "output_type": "stream",
          "text": [
            "Give the size(N) number : 8\n",
            "141\n"
          ]
        }
      ],
      "source": [
        "'''1. Write a function that takes a positive integer num and calculates how many\n",
        "dots exist in a pentagonal shape around the center dot on the Nth iteration.\n",
        "In the image below you can see the first iteration is only a single dot. On the\n",
        "second, there are 6 dots. On the third, there are 16 dots, and on the fourth\n",
        "there are 31 dots.\n",
        "\n",
        "Return the number of dots that exist in the whole pentagon on the Nth\n",
        "iteration.\n",
        "Examples\n",
        "pentagonal(1) ➞ 1\n",
        "pentagonal(2) ➞ 6\n",
        "pentagonal(3) ➞ 16\n",
        "pentagonal(8) ➞ 141\n",
        "'''\n",
        "\n",
        "\n",
        "n = int(input(\"Give the size(N) number : \"))\n",
        "di={1:1,2:6}\n",
        "for i in range(3,n+1):\n",
        "  di[i] = di[i-1] + 5*(i-1)\n",
        "print(di[n])"
      ]
    },
    {
      "cell_type": "code",
      "execution_count": 6,
      "metadata": {
        "colab": {
          "base_uri": "https://localhost:8080/"
        },
        "id": "335cHXchRqGQ",
        "outputId": "cccdf861-cb7f-4298-97e7-ca5830ad2829"
      },
      "outputs": [
        {
          "output_type": "stream",
          "name": "stdout",
          "text": [
            "apple\n",
            "1lpp0aca\n"
          ]
        }
      ],
      "source": [
        "'''2. Make a function that encrypts a given input with these steps:\n",
        "Input: &quot;apple&quot;\n",
        "Step 1: Reverse the input: &quot;elppa&quot;\n",
        "Step 2: Replace all vowels using the following chart:\n",
        "a =&gt; 0\n",
        "e =&gt; 1\n",
        "i =&gt; 2\n",
        "o =&gt; 2\n",
        "u =&gt; 3\n",
        "# &quot;1lpp0&quot;\n",
        "Step 3: Add &quot;aca&quot; to the end of the word: &quot;1lpp0aca&quot;'''\n",
        "\n",
        "s = input()\n",
        "s = s[::-1]\n",
        "s =s.replace('a','0')\n",
        "s =s.replace('e','1')\n",
        "s =s.replace('i','2')\n",
        "s =s.replace('o','2')\n",
        "s =s.replace('u','3')\n",
        "print(s+\"aca\")"
      ]
    },
    {
      "cell_type": "code",
      "execution_count": 9,
      "metadata": {
        "id": "oPw2RBvJUHwg",
        "colab": {
          "base_uri": "https://localhost:8080/"
        },
        "outputId": "3072b248-0d95-4a25-d841-e25836a78f51"
      },
      "outputs": [
        {
          "output_type": "stream",
          "name": "stdout",
          "text": [
            "Enter month : 3\n",
            "Enter year : 2020\n",
            "True\n"
          ]
        }
      ],
      "source": [
        "'''3. Given the month and year as numbers, return whether that month contains\n",
        "a Friday 13th.(i.e You can check Python&#39;s datetime module)\n",
        "Examples\n",
        "has_friday_13(3, 2020) ➞ True\n",
        "has_friday_13(10, 2017) ➞ True\n",
        "has_friday_13(1, 1985) ➞ False'''\n",
        "import datetime\n",
        "import calendar\n",
        "def has_friday_13(date):\n",
        "  born = datetime.datetime.strptime(date, '%d %m %Y').weekday()\n",
        "  return (calendar.day_name[born])\n",
        "\n",
        "mm = input(\"Enter month : \")\n",
        "yyyy = input(\"Enter year : \")\n",
        "if has_friday_13(\"13 \"+mm+\" \"+yyyy) == 'Friday':\n",
        "  print(True)\n",
        "else:\n",
        "  print(False)"
      ]
    },
    {
      "cell_type": "code",
      "source": [
        "'''4. Write a regular expression that will help us count how many bad cookies\n",
        "are produced every day. You must use RegEx negative lookbehind.\n",
        "Example\n",
        "lst = [&quot;bad cookie&quot;, &quot;good cookie&quot;, &quot;bad cookie&quot;, &quot;good cookie&quot;, &quot;good cookie&quot;]\n",
        "pattern = &quot;yourregularexpressionhere&quot;\n",
        "len(re.findall(pattern, &quot;, &quot;.join(lst))) ➞ 2'''\n",
        "\n",
        "import re\n",
        "lst = [\"bad cookie\",\"good cookie\",\"bad cookie\",\"good cookie\",\"good cookie\"]\n",
        "pattern = \"bad\";\n",
        "len(re.findall(pattern, \",\".join(lst)))"
      ],
      "metadata": {
        "colab": {
          "base_uri": "https://localhost:8080/"
        },
        "id": "uSMAuEc_0LxU",
        "outputId": "f72c8cb2-fcfd-47c4-ef5c-3ab44254217f"
      },
      "execution_count": 11,
      "outputs": [
        {
          "output_type": "execute_result",
          "data": {
            "text/plain": [
              "2"
            ]
          },
          "metadata": {},
          "execution_count": 11
        }
      ]
    },
    {
      "cell_type": "code",
      "source": [
        "'''5. Given a list of words in the singular form, return a set of those words in the\n",
        "plural form if they appear more than once in the list.\n",
        "Examples\n",
        "pluralize([&quot;cow&quot;, &quot;pig&quot;, &quot;cow&quot;, &quot;cow&quot;]) ➞ { &quot;cows&quot;, &quot;pig&quot; }\n",
        "pluralize([&quot;table&quot;, &quot;table&quot;, &quot;table&quot;]) ➞ { &quot;tables&quot;'''\n",
        "\n",
        "li = [\"cow\",\"pig\",\"cow\",\"cow\"]\n",
        "print(set(li))"
      ],
      "metadata": {
        "colab": {
          "base_uri": "https://localhost:8080/"
        },
        "id": "rWUpSS8KCmjt",
        "outputId": "88f52c45-61e0-49a4-ba7d-e89570fd6fae"
      },
      "execution_count": 12,
      "outputs": [
        {
          "output_type": "stream",
          "name": "stdout",
          "text": [
            "{'cow', 'pig'}\n"
          ]
        }
      ]
    },
    {
      "cell_type": "code",
      "source": [
        ""
      ],
      "metadata": {
        "id": "UEz8S_gRDJly"
      },
      "execution_count": null,
      "outputs": []
    }
  ],
  "metadata": {
    "colab": {
      "name": "Adv_Programming_Assignment_2",
      "provenance": []
    },
    "kernelspec": {
      "display_name": "Python 3",
      "name": "python3"
    },
    "language_info": {
      "name": "python"
    }
  },
  "nbformat": 4,
  "nbformat_minor": 0
}