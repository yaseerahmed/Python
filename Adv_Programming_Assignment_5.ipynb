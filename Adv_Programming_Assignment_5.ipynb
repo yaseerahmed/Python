{
  "nbformat": 4,
  "nbformat_minor": 0,
  "metadata": {
    "colab": {
      "name": "Adv_Programming Assignment_5",
      "provenance": []
    },
    "kernelspec": {
      "name": "python3",
      "display_name": "Python 3"
    },
    "language_info": {
      "name": "python"
    }
  },
  "cells": [
    {
      "cell_type": "code",
      "execution_count": 1,
      "metadata": {
        "colab": {
          "base_uri": "https://localhost:8080/"
        },
        "id": "Ip3sXoN2wOn8",
        "outputId": "c2500a92-142b-4c68-e20a-d973a093076a"
      },
      "outputs": [
        {
          "output_type": "stream",
          "name": "stdout",
          "text": [
            "2\n",
            "8\n",
            "2\n"
          ]
        }
      ],
      "source": [
        "'''1. Create a function that takes a number n (integer greater than zero) as an\n",
        "argument, and returns 2 if n is odd and 8 if n is even.'''\n",
        "\n",
        "def f(num):\n",
        "  if num%2==0:\n",
        "    return 8\n",
        "  return 2\n",
        "\n",
        "print(f(1))\n",
        "print(f(2))\n",
        "print(f(3))"
      ]
    },
    {
      "cell_type": "code",
      "source": [
        "'''2. Create a function that returns the majority vote in a list. A majority vote is\n",
        "an element that occurs &gt; N/2 times in a list (where N is the length of the list).'''\n",
        "\n",
        "def majority_vote(lst):\n",
        "  di = {}\n",
        "  for i in lst:\n",
        "    if i in di:\n",
        "      di[i] += 1\n",
        "    else:\n",
        "      di[i] = 1\n",
        "\n",
        "  count = 0\n",
        "  res = \"\"\n",
        "  for i in di:\n",
        "    if di[i] > count:\n",
        "      count = di[i]\n",
        "      res = i\n",
        "  \n",
        "  flag = 0\n",
        "  for i in di:\n",
        "    if di[i] == count:\n",
        "      flag +=1\n",
        "  if flag == 1:\n",
        "    return res\n",
        "  return \"None\"\n",
        "\n",
        "print(majority_vote([\"A\",\"A\",\"B\"]))\n",
        "print(majority_vote([\"A\",\"A\",\"A\",\"B\",\"C\",\"A\"]))\n",
        "print(majority_vote([\"A\",\"B\",\"B\",\"A\",\"C\",\"C\"]))"
      ],
      "metadata": {
        "colab": {
          "base_uri": "https://localhost:8080/"
        },
        "id": "HHM3mBU1wjZr",
        "outputId": "b5372505-e0b9-49b3-b687-be7ac033eb37"
      },
      "execution_count": 19,
      "outputs": [
        {
          "output_type": "stream",
          "name": "stdout",
          "text": [
            "A\n",
            "A\n",
            "None\n"
          ]
        }
      ]
    },
    {
      "cell_type": "code",
      "source": [
        "'''3. Create a function that takes a string txt and censors any word from a given\n",
        "list lst. The text removed must be replaced by the given character char.'''\n",
        "\n",
        "def censor_string(st1,li1,char):\n",
        "  substr = \"\"\n",
        "  li2 = []\n",
        "  for i in st1:\n",
        "    if i==' ': \n",
        "      li2.append(substr)\n",
        "      substr = \"\"\n",
        "    else:\n",
        "      substr+=i\n",
        "  li2.append(substr)   \n",
        "\n",
        "  res = \"\"\n",
        "  for i in li2:\n",
        "    if i in li1:\n",
        "      res +=len(i)*char\n",
        "    else:\n",
        "      res += i\n",
        "    res += ' '\n",
        "    \n",
        "  return res\n",
        "\n",
        "\n",
        "\n",
        "print(censor_string(\"Today is a Wednesday!\", [\"Today\", \"a\"], \"-\"))\n",
        "print(censor_string(\"The cow jumped over the moon\", [\"cow\", \"over\"], \"*\"))\n",
        "print(censor_string(\"Why did the chicken cross the road?\", [\"Did\", \"chicken\",\"road\"], \"*\"))"
      ],
      "metadata": {
        "colab": {
          "base_uri": "https://localhost:8080/"
        },
        "id": "MvDWBn5axiik",
        "outputId": "b115d3dc-f2cf-4d0c-8b3e-dd3708c9dbc4"
      },
      "execution_count": 56,
      "outputs": [
        {
          "output_type": "stream",
          "name": "stdout",
          "text": [
            "----- is - Wednesday! \n",
            "The *** jumped **** the moon \n",
            "Why did the ******* cross the road? \n"
          ]
        }
      ]
    },
    {
      "cell_type": "code",
      "source": [
        "'''4. In mathematics a Polydivisible Number (or magic number) is a number in a\n",
        "given number base with digits abcde... that has the following properties:\n",
        "- Its first digit a is not 0.\n",
        "- The number formed by its first two digits ab is a multiple of 2.\n",
        "- The number formed by its first three digits abc is a multiple of 3.\n",
        "- The number formed by its first four digits abcd is a multiple of 4.\n",
        "Create a function which takes an integer n and returns True if the given\n",
        "number is a Polydivisible Number and False otherwise.'''\n",
        "\n",
        "\n",
        "def is_ploydivisible(num):\n",
        "  st = str(num)\n",
        "  if st[0] == '0':\n",
        "    return False\n",
        "  for i in range(len(st)):\n",
        "    if int(st[0:i+1])%(i+1) != 0:\n",
        "      return False\n",
        "  return True\n",
        "\n",
        "print(is_ploydivisible(1232))\n",
        "print(is_ploydivisible(123220))"
      ],
      "metadata": {
        "colab": {
          "base_uri": "https://localhost:8080/"
        },
        "id": "PHLQ7A6O_Ru3",
        "outputId": "68e5d5ff-ec33-4c66-df71-0afeaef7e3d5"
      },
      "execution_count": 63,
      "outputs": [
        {
          "output_type": "stream",
          "name": "stdout",
          "text": [
            "True\n",
            "False\n"
          ]
        }
      ]
    },
    {
      "cell_type": "code",
      "source": [
        "'''5. Create a function that takes a list of numbers and returns the sum of all\n",
        "prime numbers in the list.'''\n",
        "\n",
        "def sum_primes(lst):\n",
        "  res = 0\n",
        "  for i in lst:\n",
        "    flag = False\n",
        "    if i > 1:\n",
        "        for k in range(2, i):\n",
        "            if (i % k) == 0:\n",
        "                flag = True\n",
        "                break\n",
        "    if i==1:\n",
        "      continue\n",
        "    if  not flag:\n",
        "        res += i\n",
        "  if res == 0:\n",
        "    return \"None\"\n",
        "  return res\n",
        "\n",
        "print(sum_primes([1,2,3,4,5,6,7,8,9,10]))\n",
        "print(sum_primes([2,3,4,11,20,50,71]))\n",
        "print(sum_primes([]))"
      ],
      "metadata": {
        "colab": {
          "base_uri": "https://localhost:8080/"
        },
        "id": "G6GhVvCQEX01",
        "outputId": "3f3d8c32-84ca-47a6-cc12-2e428cd9d6b6"
      },
      "execution_count": 70,
      "outputs": [
        {
          "output_type": "stream",
          "name": "stdout",
          "text": [
            "17\n",
            "87\n",
            "None\n"
          ]
        }
      ]
    },
    {
      "cell_type": "code",
      "source": [
        ""
      ],
      "metadata": {
        "id": "I-UfWRLwF3qf"
      },
      "execution_count": null,
      "outputs": []
    }
  ]
}